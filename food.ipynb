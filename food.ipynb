{
 "cells": [
  {
   "cell_type": "code",
   "execution_count": 25,
   "metadata": {
    "collapsed": false
   },
   "outputs": [],
   "source": [
    "import csv as csv\n",
    "import numpy as np\n",
    "import pandas as pd\n",
    "import matplotlib.pyplot as plt\n",
    "%matplotlib inline\n",
    "from IPython.display import display"
   ]
  },
  {
   "cell_type": "code",
   "execution_count": 31,
   "metadata": {
    "collapsed": false
   },
   "outputs": [],
   "source": [
    "food = pd.read_csv('food.csv')"
   ]
  },
  {
   "cell_type": "code",
   "execution_count": 32,
   "metadata": {
    "collapsed": false
   },
   "outputs": [
    {
     "data": {
      "text/html": [
       "<div>\n",
       "<table border=\"1\" class=\"dataframe\">\n",
       "  <thead>\n",
       "    <tr style=\"text-align: right;\">\n",
       "      <th></th>\n",
       "      <th>parents_cook</th>\n",
       "      <th>food_childhood</th>\n",
       "      <th>fav_food</th>\n",
       "      <th>cuisine</th>\n",
       "      <th>fruit_day</th>\n",
       "      <th>veggies_day</th>\n",
       "      <th>diet_current</th>\n",
       "      <th>ideal_diet</th>\n",
       "      <th>eating_changes</th>\n",
       "      <th>comfort_food_reasons</th>\n",
       "      <th>...</th>\n",
       "      <th>cook</th>\n",
       "      <th>exercise</th>\n",
       "      <th>sports</th>\n",
       "      <th>type_sports</th>\n",
       "      <th>meals_dinner_friend</th>\n",
       "      <th>pay_meal_out</th>\n",
       "      <th>eating_out</th>\n",
       "      <th>GPA</th>\n",
       "      <th>healthy_feeling</th>\n",
       "      <th>life_rewarding</th>\n",
       "    </tr>\n",
       "  </thead>\n",
       "  <tbody>\n",
       "    <tr>\n",
       "      <th>0</th>\n",
       "      <td>Almost Everyday</td>\n",
       "      <td>rice  and chicken</td>\n",
       "      <td>something parents cooked at home</td>\n",
       "      <td>Arab's food the best</td>\n",
       "      <td>very likely</td>\n",
       "      <td>very likely</td>\n",
       "      <td>eat good and exercise</td>\n",
       "      <td>being healthy</td>\n",
       "      <td>eat faster</td>\n",
       "      <td>we dont have comfort</td>\n",
       "      <td>...</td>\n",
       "      <td>A couple of times a week</td>\n",
       "      <td>Everyday</td>\n",
       "      <td>Yes</td>\n",
       "      <td>car racing</td>\n",
       "      <td>rice, chicken,  soup</td>\n",
       "      <td>$5.01 to $10.00</td>\n",
       "      <td>2-3 times</td>\n",
       "      <td>2.4</td>\n",
       "      <td>2</td>\n",
       "      <td>1.0</td>\n",
       "    </tr>\n",
       "    <tr>\n",
       "      <th>1</th>\n",
       "      <td>Almost Everyday</td>\n",
       "      <td>chicken and biscuits, beef soup, baked beans</td>\n",
       "      <td>something parents cooked at home</td>\n",
       "      <td>American</td>\n",
       "      <td>likely</td>\n",
       "      <td>likely</td>\n",
       "      <td>I eat about three times a day with some snacks...</td>\n",
       "      <td>Try to eat 5-6 small meals a day. While trying...</td>\n",
       "      <td>I eat out more than usual.</td>\n",
       "      <td>Stress, bored, anger</td>\n",
       "      <td>...</td>\n",
       "      <td>Whenever I can, but that is not very often</td>\n",
       "      <td>Everyday</td>\n",
       "      <td>Yes</td>\n",
       "      <td>Basketball</td>\n",
       "      <td>Pasta, steak, chicken</td>\n",
       "      <td>$20.01 to $30.00</td>\n",
       "      <td>1-2 times</td>\n",
       "      <td>3.654</td>\n",
       "      <td>5</td>\n",
       "      <td>1.0</td>\n",
       "    </tr>\n",
       "  </tbody>\n",
       "</table>\n",
       "<p>2 rows × 54 columns</p>\n",
       "</div>"
      ],
      "text/plain": [
       "      parents_cook                                food_childhood  \\\n",
       "0  Almost Everyday                            rice  and chicken    \n",
       "1  Almost Everyday  chicken and biscuits, beef soup, baked beans   \n",
       "\n",
       "                           fav_food               cuisine    fruit_day  \\\n",
       "0  something parents cooked at home  Arab's food the best  very likely   \n",
       "1  something parents cooked at home              American       likely   \n",
       "\n",
       "   veggies_day                                       diet_current  \\\n",
       "0  very likely                              eat good and exercise   \n",
       "1       likely  I eat about three times a day with some snacks...   \n",
       "\n",
       "                                          ideal_diet  \\\n",
       "0                                     being healthy    \n",
       "1  Try to eat 5-6 small meals a day. While trying...   \n",
       "\n",
       "                eating_changes   comfort_food_reasons       ...        \\\n",
       "0                  eat faster   we dont have comfort        ...         \n",
       "1  I eat out more than usual.    Stress, bored, anger       ...         \n",
       "\n",
       "                                         cook  exercise sports  type_sports  \\\n",
       "0                    A couple of times a week  Everyday    Yes   car racing   \n",
       "1  Whenever I can, but that is not very often  Everyday    Yes  Basketball    \n",
       "\n",
       "      meals_dinner_friend      pay_meal_out eating_out    GPA  \\\n",
       "0    rice, chicken,  soup   $5.01 to $10.00  2-3 times    2.4   \n",
       "1  Pasta, steak, chicken   $20.01 to $30.00  1-2 times  3.654   \n",
       "\n",
       "   healthy_feeling  life_rewarding  \n",
       "0                2             1.0  \n",
       "1                5             1.0  \n",
       "\n",
       "[2 rows x 54 columns]"
      ]
     },
     "execution_count": 32,
     "metadata": {},
     "output_type": "execute_result"
    }
   ],
   "source": [
    "food.head(2)"
   ]
  },
  {
   "cell_type": "code",
   "execution_count": 33,
   "metadata": {
    "collapsed": false
   },
   "outputs": [
    {
     "name": "stdout",
     "output_type": "stream",
     "text": [
      "125\n"
     ]
    }
   ],
   "source": [
    "cases = len(food)\n",
    "print cases"
   ]
  },
  {
   "cell_type": "code",
   "execution_count": 34,
   "metadata": {
    "collapsed": false
   },
   "outputs": [
    {
     "name": "stdout",
     "output_type": "stream",
     "text": [
      "53\n"
     ]
    }
   ],
   "source": [
    "variables = food.shape[1]-1\n",
    "print variables"
   ]
  },
  {
   "cell_type": "code",
   "execution_count": 35,
   "metadata": {
    "collapsed": false
   },
   "outputs": [
    {
     "data": {
      "text/plain": [
       "(125, 54)"
      ]
     },
     "execution_count": 35,
     "metadata": {},
     "output_type": "execute_result"
    }
   ],
   "source": [
    "food.shape"
   ]
  },
  {
   "cell_type": "code",
   "execution_count": 36,
   "metadata": {
    "collapsed": true
   },
   "outputs": [],
   "source": [
    "#make parents_cook column numerical\n",
    "food['parents_cook'] = food['parents_cook'].map({'Almost Everyday':1,'2-3 times a week':2, '1-2 times a week':3, 'On holidays only':4, 'Never':5})"
   ]
  },
  {
   "cell_type": "code",
   "execution_count": 37,
   "metadata": {
    "collapsed": false
   },
   "outputs": [
    {
     "data": {
      "text/html": [
       "<div>\n",
       "<table border=\"1\" class=\"dataframe\">\n",
       "  <thead>\n",
       "    <tr style=\"text-align: right;\">\n",
       "      <th></th>\n",
       "      <th>parents_cook</th>\n",
       "      <th>food_childhood</th>\n",
       "      <th>fav_food</th>\n",
       "      <th>cuisine</th>\n",
       "      <th>fruit_day</th>\n",
       "      <th>veggies_day</th>\n",
       "      <th>diet_current</th>\n",
       "      <th>ideal_diet</th>\n",
       "      <th>eating_changes</th>\n",
       "      <th>comfort_food_reasons</th>\n",
       "      <th>...</th>\n",
       "      <th>cook</th>\n",
       "      <th>exercise</th>\n",
       "      <th>sports</th>\n",
       "      <th>type_sports</th>\n",
       "      <th>meals_dinner_friend</th>\n",
       "      <th>pay_meal_out</th>\n",
       "      <th>eating_out</th>\n",
       "      <th>GPA</th>\n",
       "      <th>healthy_feeling</th>\n",
       "      <th>life_rewarding</th>\n",
       "    </tr>\n",
       "  </thead>\n",
       "  <tbody>\n",
       "    <tr>\n",
       "      <th>0</th>\n",
       "      <td>1</td>\n",
       "      <td>rice  and chicken</td>\n",
       "      <td>something parents cooked at home</td>\n",
       "      <td>Arab's food the best</td>\n",
       "      <td>very likely</td>\n",
       "      <td>very likely</td>\n",
       "      <td>eat good and exercise</td>\n",
       "      <td>being healthy</td>\n",
       "      <td>eat faster</td>\n",
       "      <td>we dont have comfort</td>\n",
       "      <td>...</td>\n",
       "      <td>A couple of times a week</td>\n",
       "      <td>Everyday</td>\n",
       "      <td>Yes</td>\n",
       "      <td>car racing</td>\n",
       "      <td>rice, chicken,  soup</td>\n",
       "      <td>$5.01 to $10.00</td>\n",
       "      <td>2-3 times</td>\n",
       "      <td>2.4</td>\n",
       "      <td>2</td>\n",
       "      <td>1.0</td>\n",
       "    </tr>\n",
       "    <tr>\n",
       "      <th>1</th>\n",
       "      <td>1</td>\n",
       "      <td>chicken and biscuits, beef soup, baked beans</td>\n",
       "      <td>something parents cooked at home</td>\n",
       "      <td>American</td>\n",
       "      <td>likely</td>\n",
       "      <td>likely</td>\n",
       "      <td>I eat about three times a day with some snacks...</td>\n",
       "      <td>Try to eat 5-6 small meals a day. While trying...</td>\n",
       "      <td>I eat out more than usual.</td>\n",
       "      <td>Stress, bored, anger</td>\n",
       "      <td>...</td>\n",
       "      <td>Whenever I can, but that is not very often</td>\n",
       "      <td>Everyday</td>\n",
       "      <td>Yes</td>\n",
       "      <td>Basketball</td>\n",
       "      <td>Pasta, steak, chicken</td>\n",
       "      <td>$20.01 to $30.00</td>\n",
       "      <td>1-2 times</td>\n",
       "      <td>3.654</td>\n",
       "      <td>5</td>\n",
       "      <td>1.0</td>\n",
       "    </tr>\n",
       "  </tbody>\n",
       "</table>\n",
       "<p>2 rows × 54 columns</p>\n",
       "</div>"
      ],
      "text/plain": [
       "   parents_cook                                food_childhood  \\\n",
       "0             1                            rice  and chicken    \n",
       "1             1  chicken and biscuits, beef soup, baked beans   \n",
       "\n",
       "                           fav_food               cuisine    fruit_day  \\\n",
       "0  something parents cooked at home  Arab's food the best  very likely   \n",
       "1  something parents cooked at home              American       likely   \n",
       "\n",
       "   veggies_day                                       diet_current  \\\n",
       "0  very likely                              eat good and exercise   \n",
       "1       likely  I eat about three times a day with some snacks...   \n",
       "\n",
       "                                          ideal_diet  \\\n",
       "0                                     being healthy    \n",
       "1  Try to eat 5-6 small meals a day. While trying...   \n",
       "\n",
       "                eating_changes   comfort_food_reasons       ...        \\\n",
       "0                  eat faster   we dont have comfort        ...         \n",
       "1  I eat out more than usual.    Stress, bored, anger       ...         \n",
       "\n",
       "                                         cook  exercise sports  type_sports  \\\n",
       "0                    A couple of times a week  Everyday    Yes   car racing   \n",
       "1  Whenever I can, but that is not very often  Everyday    Yes  Basketball    \n",
       "\n",
       "      meals_dinner_friend      pay_meal_out eating_out    GPA  \\\n",
       "0    rice, chicken,  soup   $5.01 to $10.00  2-3 times    2.4   \n",
       "1  Pasta, steak, chicken   $20.01 to $30.00  1-2 times  3.654   \n",
       "\n",
       "   healthy_feeling  life_rewarding  \n",
       "0                2             1.0  \n",
       "1                5             1.0  \n",
       "\n",
       "[2 rows x 54 columns]"
      ]
     },
     "execution_count": 37,
     "metadata": {},
     "output_type": "execute_result"
    }
   ],
   "source": [
    "# check it\n",
    "food.head(2)"
   ]
  },
  {
   "cell_type": "code",
   "execution_count": null,
   "metadata": {
    "collapsed": true
   },
   "outputs": [],
   "source": []
  },
  {
   "cell_type": "markdown",
   "metadata": {},
   "source": [
    "f = food['food_childhood']\n",
    "f.head(2)"
   ]
  },
  {
   "cell_type": "code",
   "execution_count": 51,
   "metadata": {
    "collapsed": true
   },
   "outputs": [],
   "source": [
    "food['fav_food']=food['fav_food'].map({'something parents cooked at home':1, 'something that came from the store':2, 'both store bought and home cooked':3})"
   ]
  },
  {
   "cell_type": "code",
   "execution_count": 52,
   "metadata": {
    "collapsed": false
   },
   "outputs": [
    {
     "data": {
      "text/html": [
       "<div>\n",
       "<table border=\"1\" class=\"dataframe\">\n",
       "  <thead>\n",
       "    <tr style=\"text-align: right;\">\n",
       "      <th></th>\n",
       "      <th>parents_cook</th>\n",
       "      <th>food_childhood</th>\n",
       "      <th>fav_food</th>\n",
       "      <th>cuisine</th>\n",
       "      <th>fruit_day</th>\n",
       "      <th>veggies_day</th>\n",
       "      <th>diet_current</th>\n",
       "      <th>ideal_diet</th>\n",
       "      <th>eating_changes</th>\n",
       "      <th>comfort_food_reasons</th>\n",
       "      <th>...</th>\n",
       "      <th>cook</th>\n",
       "      <th>exercise</th>\n",
       "      <th>sports</th>\n",
       "      <th>type_sports</th>\n",
       "      <th>meals_dinner_friend</th>\n",
       "      <th>pay_meal_out</th>\n",
       "      <th>eating_out</th>\n",
       "      <th>GPA</th>\n",
       "      <th>healthy_feeling</th>\n",
       "      <th>life_rewarding</th>\n",
       "    </tr>\n",
       "  </thead>\n",
       "  <tbody>\n",
       "    <tr>\n",
       "      <th>0</th>\n",
       "      <td>1</td>\n",
       "      <td>rice  and chicken</td>\n",
       "      <td>1.0</td>\n",
       "      <td>Arab's food the best</td>\n",
       "      <td>very likely</td>\n",
       "      <td>very likely</td>\n",
       "      <td>eat good and exercise</td>\n",
       "      <td>being healthy</td>\n",
       "      <td>eat faster</td>\n",
       "      <td>we dont have comfort</td>\n",
       "      <td>...</td>\n",
       "      <td>A couple of times a week</td>\n",
       "      <td>Everyday</td>\n",
       "      <td>Yes</td>\n",
       "      <td>car racing</td>\n",
       "      <td>rice, chicken,  soup</td>\n",
       "      <td>$5.01 to $10.00</td>\n",
       "      <td>2-3 times</td>\n",
       "      <td>2.4</td>\n",
       "      <td>2</td>\n",
       "      <td>1.0</td>\n",
       "    </tr>\n",
       "    <tr>\n",
       "      <th>1</th>\n",
       "      <td>1</td>\n",
       "      <td>chicken and biscuits, beef soup, baked beans</td>\n",
       "      <td>1.0</td>\n",
       "      <td>American</td>\n",
       "      <td>likely</td>\n",
       "      <td>likely</td>\n",
       "      <td>I eat about three times a day with some snacks...</td>\n",
       "      <td>Try to eat 5-6 small meals a day. While trying...</td>\n",
       "      <td>I eat out more than usual.</td>\n",
       "      <td>Stress, bored, anger</td>\n",
       "      <td>...</td>\n",
       "      <td>Whenever I can, but that is not very often</td>\n",
       "      <td>Everyday</td>\n",
       "      <td>Yes</td>\n",
       "      <td>Basketball</td>\n",
       "      <td>Pasta, steak, chicken</td>\n",
       "      <td>$20.01 to $30.00</td>\n",
       "      <td>1-2 times</td>\n",
       "      <td>3.654</td>\n",
       "      <td>5</td>\n",
       "      <td>1.0</td>\n",
       "    </tr>\n",
       "    <tr>\n",
       "      <th>2</th>\n",
       "      <td>1</td>\n",
       "      <td>mac and cheese, pizza, tacos</td>\n",
       "      <td>3.0</td>\n",
       "      <td>Mexican/Spanish</td>\n",
       "      <td>very likely</td>\n",
       "      <td>very likely</td>\n",
       "      <td>toast and fruit for breakfast, salad for lunch...</td>\n",
       "      <td>i would say my ideal diet is my current diet</td>\n",
       "      <td>sometimes choosing to eat fast food instead of...</td>\n",
       "      <td>stress, sadness</td>\n",
       "      <td>...</td>\n",
       "      <td>Every day</td>\n",
       "      <td>Twice or three times per week</td>\n",
       "      <td>No</td>\n",
       "      <td>none</td>\n",
       "      <td>chicken and rice with veggies, pasta, some kin...</td>\n",
       "      <td>$10.01 to $20.00</td>\n",
       "      <td>1-2 times</td>\n",
       "      <td>3.3</td>\n",
       "      <td>6</td>\n",
       "      <td>7.0</td>\n",
       "    </tr>\n",
       "  </tbody>\n",
       "</table>\n",
       "<p>3 rows × 54 columns</p>\n",
       "</div>"
      ],
      "text/plain": [
       "   parents_cook                                food_childhood  fav_food  \\\n",
       "0             1                            rice  and chicken        1.0   \n",
       "1             1  chicken and biscuits, beef soup, baked beans       1.0   \n",
       "2             1                  mac and cheese, pizza, tacos       3.0   \n",
       "\n",
       "                cuisine    fruit_day  veggies_day  \\\n",
       "0  Arab's food the best  very likely  very likely   \n",
       "1              American       likely       likely   \n",
       "2       Mexican/Spanish  very likely  very likely   \n",
       "\n",
       "                                        diet_current  \\\n",
       "0                              eat good and exercise   \n",
       "1  I eat about three times a day with some snacks...   \n",
       "2  toast and fruit for breakfast, salad for lunch...   \n",
       "\n",
       "                                          ideal_diet  \\\n",
       "0                                     being healthy    \n",
       "1  Try to eat 5-6 small meals a day. While trying...   \n",
       "2       i would say my ideal diet is my current diet   \n",
       "\n",
       "                                      eating_changes   comfort_food_reasons  \\\n",
       "0                                        eat faster   we dont have comfort    \n",
       "1                        I eat out more than usual.    Stress, bored, anger   \n",
       "2  sometimes choosing to eat fast food instead of...        stress, sadness   \n",
       "\n",
       "        ...                                              cook  \\\n",
       "0       ...                          A couple of times a week   \n",
       "1       ...        Whenever I can, but that is not very often   \n",
       "2       ...                                         Every day   \n",
       "\n",
       "                        exercise sports  type_sports  \\\n",
       "0                       Everyday    Yes   car racing   \n",
       "1                       Everyday    Yes  Basketball    \n",
       "2  Twice or three times per week     No         none   \n",
       "\n",
       "                                 meals_dinner_friend      pay_meal_out  \\\n",
       "0                               rice, chicken,  soup   $5.01 to $10.00   \n",
       "1                             Pasta, steak, chicken   $20.01 to $30.00   \n",
       "2  chicken and rice with veggies, pasta, some kin...  $10.01 to $20.00   \n",
       "\n",
       "  eating_out    GPA  healthy_feeling  life_rewarding  \n",
       "0  2-3 times    2.4                2             1.0  \n",
       "1  1-2 times  3.654                5             1.0  \n",
       "2  1-2 times    3.3                6             7.0  \n",
       "\n",
       "[3 rows x 54 columns]"
      ]
     },
     "execution_count": 52,
     "metadata": {},
     "output_type": "execute_result"
    }
   ],
   "source": [
    "food.head(3)"
   ]
  },
  {
   "cell_type": "code",
   "execution_count": null,
   "metadata": {
    "collapsed": true
   },
   "outputs": [],
   "source": []
  }
 ],
 "metadata": {
  "anaconda-cloud": {},
  "kernelspec": {
   "display_name": "Python [conda root]",
   "language": "python",
   "name": "conda-root-py"
  },
  "language_info": {
   "codemirror_mode": {
    "name": "ipython",
    "version": 2
   },
   "file_extension": ".py",
   "mimetype": "text/x-python",
   "name": "python",
   "nbconvert_exporter": "python",
   "pygments_lexer": "ipython2",
   "version": "2.7.12"
  }
 },
 "nbformat": 4,
 "nbformat_minor": 1
}
